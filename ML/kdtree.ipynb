{
 "cells": [
  {
   "cell_type": "code",
   "execution_count": 2,
   "metadata": {},
   "outputs": [],
   "source": [
    "import numpy as np\n",
    "\n",
    "data = [[30, 40], [5,25], [10, 12], [70, 70], [50, 30], [35, 45]]"
   ]
  },
  {
   "cell_type": "code",
   "execution_count": 3,
   "metadata": {},
   "outputs": [],
   "source": [
    "class Tree():\n",
    "    \"\"\"\n",
    "    Tree structure\n",
    "    \"\"\"\n",
    "    def __init__(self, node):\n",
    "        self.root = node\n",
    "        self.left = 0\n",
    "        self.right = 0\n",
    "    \n",
    "    def insert(self, node, dim):\n",
    "        \"\"\"\n",
    "        k-d tree insert in x,y,x,y cutting dimension order\n",
    "        \"\"\"\n",
    "        if (node.root[dim]<self.root[dim]):\n",
    "            if (self.left==0):\n",
    "                self.left = node\n",
    "            else:\n",
    "                self.left.insert(node, (dim+1)%2)\n",
    "        else:\n",
    "            if (self.right==0):\n",
    "                self.right = node\n",
    "            else:\n",
    "                self.right.insert(node, (dim+1)%2)\n",
    "            \n",
    "            \n",
    "\n",
    "tree = []\n",
    "\n",
    "# cutting dimension x y x y\n",
    "n = Tree(data[0])\n",
    "for d in data[1:]:\n",
    "    n.insert(Tree(d),0)\n",
    "    \n",
    "    \n",
    "    \n"
   ]
  },
  {
   "cell_type": "code",
   "execution_count": 4,
   "metadata": {},
   "outputs": [
    {
     "output_type": "execute_result",
     "data": {
      "text/plain": "[5, 25]"
     },
     "metadata": {},
     "execution_count": 4
    }
   ],
   "source": [
    "n.left.root\n"
   ]
  }
 ],
 "metadata": {
  "kernelspec": {
   "display_name": "Python 3.8.3 64-bit",
   "language": "python",
   "name": "python_defaultSpec_1600207236079"
  },
  "language_info": {
   "codemirror_mode": {
    "name": "ipython",
    "version": 3
   },
   "file_extension": ".py",
   "mimetype": "text/x-python",
   "name": "python",
   "nbconvert_exporter": "python",
   "pygments_lexer": "ipython3",
   "version": "3.8.3-final"
  }
 },
 "nbformat": 4,
 "nbformat_minor": 4
}